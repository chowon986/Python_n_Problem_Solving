{
 "cells": [
  {
   "cell_type": "markdown",
   "metadata": {},
   "source": [
    "### 재귀 연습"
   ]
  },
  {
   "cell_type": "code",
   "execution_count": 2,
   "metadata": {},
   "outputs": [
    {
     "name": "stdout",
     "output_type": "stream",
     "text": [
      "★\n",
      "★★\n",
      "★★★\n",
      "★★★★\n",
      "★★★★★\n",
      "★★★★★★\n",
      "★★★★★★★\n"
     ]
    }
   ],
   "source": [
    "# 출력 예시 반복문\n",
    "for i in range(1,8):\n",
    "    print(i * \"★\")"
   ]
  },
  {
   "cell_type": "code",
   "execution_count": null,
   "metadata": {},
   "outputs": [],
   "source": [
    "# 재귀로 만들어보자!\n",
    "\n",
    "def star_print(n):\n",
    "    pass\n",
    "\n",
    "star_print(8)"
   ]
  },
  {
   "cell_type": "code",
   "execution_count": null,
   "metadata": {},
   "outputs": [],
   "source": [
    "\"\"\" 문제 1\n",
    "구구단 2단\n",
    "2 * 1 = 2\n",
    "2 * 2 = 4\n",
    "2 * 3 = 6\n",
    "2 * 4 = 8\n",
    "2 * 5 = 10\n",
    "2 * 6 = 12\n",
    "2 * 7 = 14\n",
    "2 * 8 = 16\n",
    "2 * 9 = 18\n",
    "\"\"\"\n",
    "\n",
    "def gugu(n):\n",
    "    pass\n",
    "\n",
    "gugu(9)"
   ]
  },
  {
   "cell_type": "code",
   "execution_count": null,
   "metadata": {},
   "outputs": [],
   "source": [
    "\"\"\" 문제 2\n",
    "5 4 3 2 1 발사\n",
    "\"\"\"\n",
    "\n",
    "def count_down(n):\n",
    "    pass\n",
    "\n",
    "count_down(5)"
   ]
  },
  {
   "cell_type": "code",
   "execution_count": null,
   "metadata": {},
   "outputs": [],
   "source": [
    "# 출력 예시 반복문\n",
    "for i in range(85, 101):\n",
    "    if i % 2 != 1:\n",
    "        print(i, end= \" \")\n",
    "\n",
    "\"\"\"\n",
    "n ~ 100 사이의 짝수를 구하고 싶습니다.\n",
    "정수 n이 매개변수로 주어질 때, n ~ 100 사이의 짝수를 반환하도록 함수를 완성해주세요.\n",
    "\n",
    "제한사항\n",
    "1 <= n <= 100\n",
    "\n",
    "\n",
    "-- 입력 예시\n",
    "85\n",
    "-- 출력 예시\n",
    "86 88 90 92 94 96 98 100 \n",
    "\"\"\"\n",
    "\n",
    "def solution(n):\n",
    "    pass"
   ]
  },
  {
   "cell_type": "code",
   "execution_count": null,
   "metadata": {},
   "outputs": [],
   "source": []
  }
 ],
 "metadata": {
  "kernelspec": {
   "display_name": "TIL",
   "language": "python",
   "name": "python3"
  },
  "language_info": {
   "codemirror_mode": {
    "name": "ipython",
    "version": 3
   },
   "file_extension": ".py",
   "mimetype": "text/x-python",
   "name": "python",
   "nbconvert_exporter": "python",
   "pygments_lexer": "ipython3",
   "version": "3.8.18"
  }
 },
 "nbformat": 4,
 "nbformat_minor": 2
}
