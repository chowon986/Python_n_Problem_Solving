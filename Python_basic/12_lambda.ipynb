{
 "cells": [
  {
   "cell_type": "markdown",
   "metadata": {},
   "source": [
    "### 람다\n",
    "> 람다는 인라인으로 작성할 수 있기 때문에 전체 함수보다 읽기 쉽습니다. 따라서 함수 표현식의 규모가 작을 때 람다를 사용하는 것이 좋습니다.\n"
   ]
  },
  {
   "cell_type": "code",
   "execution_count": 1,
   "metadata": {},
   "outputs": [
    {
     "name": "stdout",
     "output_type": "stream",
     "text": [
      "2\n"
     ]
    }
   ],
   "source": [
    "# 인라인 코드 작성 예시\n",
    "b = 5\n",
    "# b = 2\n",
    "a = 1 if b==2 else (2 if b>3 else 3)\n",
    "print(a)"
   ]
  },
  {
   "cell_type": "markdown",
   "metadata": {},
   "source": [
    "- 람다 함수의 장점은 함수 객체를 반환합니다.\n",
    "\n",
    "- 따라서 함수 객체를 인수로 필요로하는 map 또는 filter와 같은 함수와 함께 사용할 때 유용합니다."
   ]
  },
  {
   "cell_type": "code",
   "execution_count": null,
   "metadata": {},
   "outputs": [],
   "source": [
    "# lambda 예시 1\n",
    "\n",
    "# 함수 정의\n",
    "define_word = (lambda word1, define: word1 * define)\n",
    "\n",
    "# 함수 호출\n",
    "result = define_word('call_result_', 5)\n",
    "\n",
    "# 결과 출력\n",
    "print(result)"
   ]
  },
  {
   "cell_type": "code",
   "execution_count": null,
   "metadata": {},
   "outputs": [],
   "source": [
    "# lambda map 활용 예시\n",
    "# 예시 리스트\n",
    "spelling = [\"test1\", \"test2\",\"test4 test5\",\"test3\"]\n",
    "\n",
    "# 람다함수적용\n",
    "shout_spells = map(lambda item : item + ('!!!'), spelling)\n",
    "\n",
    "# 리스트 형태로 변환\n",
    "shout_spells_list = list(shout_spells)\n",
    "\n",
    "# 결과출력\n",
    "print(shout_spells_list)"
   ]
  },
  {
   "cell_type": "code",
   "execution_count": null,
   "metadata": {},
   "outputs": [],
   "source": [
    "# filter 예시\n",
    "\n",
    "# 리스트 생성\n",
    "fellowship = ['frodo','samwise','merry','pippin','aragorn','bormir','legolas','gimli','gandalf']\n",
    "\n",
    "# 람다함수적용\n",
    "result = filter(lambda member : len(member) > 6, fellowship)\n",
    "\n",
    "# 리스트형태로 변환\n",
    "result_list = list(result)\n",
    "\n",
    "# 결과출력\n",
    "print(result_list)"
   ]
  },
  {
   "cell_type": "code",
   "execution_count": null,
   "metadata": {},
   "outputs": [],
   "source": [
    "# functools 모듈 사용\n",
    "from functools import reduce\n",
    "\n",
    "# 리스트 생성\n",
    "stark = ['robb', 'sansa', 'arya','brandon','rickon']\n",
    "\n",
    "# 람다함수적용\n",
    "result = reduce(lambda item1, item2 : item1+item2, stark)\n",
    "\n",
    "# 결과출력\n",
    "print(result)"
   ]
  }
 ],
 "metadata": {
  "kernelspec": {
   "display_name": "TIL",
   "language": "python",
   "name": "python3"
  },
  "language_info": {
   "codemirror_mode": {
    "name": "ipython",
    "version": 3
   },
   "file_extension": ".py",
   "mimetype": "text/x-python",
   "name": "python",
   "nbconvert_exporter": "python",
   "pygments_lexer": "ipython3",
   "version": "3.8.18"
  }
 },
 "nbformat": 4,
 "nbformat_minor": 2
}
