{
 "cells": [
  {
   "cell_type": "markdown",
   "metadata": {},
   "source": [
    "### Comprehenstion\n",
    "\n",
    "> 컴프리헨션은 실제 프로그래밍에서 한 줄로 파이썬 기능을 구현할 수 있는 기능이다.\n",
    "- 코드 간소화를 위해서 사용되고 직관적이며 속도도 빠르다.\n",
    "    - 주의점\n",
    "        - 컴프리헨션 내에서 여러 조건이 중첩되는 경우 가독성이 떨어진다.\n",
    "        - 조건문에 따라 컴퓨터에 사용되는 메모리에 영향을 줄 수 있다."
   ]
  },
  {
   "cell_type": "code",
   "execution_count": null,
   "metadata": {},
   "outputs": [],
   "source": [
    "numbers = [1,2,3,4]\n",
    "squares = []\n",
    "\n",
    "for n in numbers:\n",
    "    squares.append(n**2)\n",
    "\n",
    "print(squares)"
   ]
  },
  {
   "cell_type": "markdown",
   "metadata": {},
   "source": [
    "### 리스트 컴프리헨션\n",
    "\n",
    "- 컴프리헨션은 if 키워드를 지원합니다.\n",
    "    - 이때 if 키워드는 for문 다음에 위치해야 합니다.\n",
    "\n",
    "예시\n",
    "- `[반복실행문 for 반복변수 in 반복범위]`\n",
    "- `[반복실행문(if문 통과시) for 반복변수 in 반복범위 if 조건]`\n",
    "- `[반복실행문(if문 통과시) if 조건 else 반복실행문(else문 진입시) for 반복변수 in 반복범위]`"
   ]
  },
  {
   "cell_type": "code",
   "execution_count": null,
   "metadata": {},
   "outputs": [],
   "source": [
    "numbers = [1,2,3,4]\n",
    "squares = [n**2 for n in numbers]\n",
    "\n",
    "print(squares)"
   ]
  },
  {
   "cell_type": "code",
   "execution_count": null,
   "metadata": {},
   "outputs": [],
   "source": [
    "# 이중 for문\n",
    "\n",
    "list_a = [1,2,3,4]\n",
    "list_b = [2,3,4,5]\n",
    "\n",
    "common_num = []\n",
    "\n",
    "for a in list_a:\n",
    "    for b in list_b:\n",
    "        if a == b:\n",
    "            common_num.append(a)\n",
    "print(common_num)"
   ]
  },
  {
   "cell_type": "markdown",
   "metadata": {},
   "source": [
    "### 이중 for문\n",
    "\n",
    "- `[반복실행문 for 반복변수 in 반복범위 for 반복변수 in 반복범위]`\n",
    "- `[반복실행문(if문 통과시) for 반복변수 in 반복범위 if 조건]`"
   ]
  },
  {
   "cell_type": "code",
   "execution_count": null,
   "metadata": {},
   "outputs": [],
   "source": [
    "list_a = [1,2,3,4]\n",
    "list_b = [2,3,4,5]\n",
    "\n",
    "common_num = [a for a in list_a for b in list_b if a == b]\n",
    "\n",
    "print(common_num)"
   ]
  }
 ],
 "metadata": {
  "kernelspec": {
   "display_name": "TIL",
   "language": "python",
   "name": "python3"
  },
  "language_info": {
   "codemirror_mode": {
    "name": "ipython",
    "version": 3
   },
   "file_extension": ".py",
   "mimetype": "text/x-python",
   "name": "python",
   "nbconvert_exporter": "python",
   "pygments_lexer": "ipython3",
   "version": "3.8.18"
  }
 },
 "nbformat": 4,
 "nbformat_minor": 2
}
