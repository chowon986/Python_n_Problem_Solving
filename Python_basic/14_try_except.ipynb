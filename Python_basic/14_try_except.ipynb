{
 "cells": [
  {
   "cell_type": "markdown",
   "metadata": {},
   "source": [
    "# 예외처리\n",
    "> 예외 상황이 발생하더라도 프로그램을 중단 시키기 않고 예외에 대한 적절한 처리를 하여, 프로그램을 계속 진행 시킬 수 있도록 하는 것\n",
    "\n",
    "- `if ~ else`보다 `try ~ except`문이 더 직관적이다. 가독성도 좋다.\n",
    "    - 일단 해보고 ~ 안되면 말고\n",
    "\n",
    "- `try` : 처리하고자 하는 부분\n",
    "- `except` : 에러가 발생했을때 처리\n",
    "- `else` : 에러가 발생하지 않았을때 수행될 내용\n",
    "- `finally` : 예외처리 여부와 상관없이 수행됨"
   ]
  },
  {
   "cell_type": "markdown",
   "metadata": {},
   "source": [
    "```\n",
    "try:\n",
    "    문제가 없을 경우 실행할 코드\n",
    "except:\n",
    "    문제가 생겼을 경우 실행할 코드\n",
    "```"
   ]
  },
  {
   "cell_type": "code",
   "execution_count": null,
   "metadata": {},
   "outputs": [],
   "source": [
    "def my_divide():\n",
    "    try:\n",
    "        x = input('분자의 숫자를 입력하세요!')\n",
    "        y = input('분모의 숫자를 입력하세요!')\n",
    "        return int(x)/int(y)\n",
    "    except:\n",
    "        return print('나누기를 할 수 없습니다.')\n",
    "\n",
    "print(my_divide())"
   ]
  },
  {
   "cell_type": "markdown",
   "metadata": {},
   "source": [
    "```\n",
    "try:\n",
    "    실행할 코드 입력\n",
    "except:\n",
    "    예외처리 코드 블럭\n",
    "else:\n",
    "    except 절을 만나지 않았을 경우 실행하는 코드 블럭\n",
    "```"
   ]
  },
  {
   "cell_type": "code",
   "execution_count": null,
   "metadata": {},
   "outputs": [],
   "source": [
    "def disneyland():\n",
    "    try:\n",
    "        age = int(input(\"나이를 숫자로 입력하세요.\"))\n",
    "    except ValueError as e:\n",
    "        print(\"숫자로 나이를 입력해주세요\")\n",
    "        print(e)\n",
    "    else:\n",
    "        # 3세 미만은 무료\n",
    "        if age < 3:\n",
    "            print(\"3세 미만은 무료입장입니다.\")\n",
    "        # 3세 ~ 9시 : 5,000원\n",
    "        elif age >= 3 and age < 10:\n",
    "            print(\"요금은 5,000원 입니다.\")\n",
    "        # 일반 요금 10,000원\n",
    "        else:\n",
    "            print(\"요금은 10,000원 입니다.\")\n",
    "\n",
    "disneyland()"
   ]
  },
  {
   "cell_type": "markdown",
   "metadata": {},
   "source": [
    "```\n",
    "try:\n",
    "    실행할 코드 블럭\n",
    "except:\n",
    "    예외처리 코드 블럭\n",
    "finally:\n",
    "    무조건 실행되는 부분\n",
    "```"
   ]
  },
  {
   "cell_type": "code",
   "execution_count": null,
   "metadata": {},
   "outputs": [],
   "source": [
    "def disneyland():\n",
    "    try:\n",
    "        age = int(input(\"나이를 숫자로 입력하세요.\"))\n",
    "    except ValueError as e:\n",
    "        print(\"숫자로 나이를 입력해주세요\")\n",
    "        print(e)\n",
    "    else:\n",
    "        # 3세 미만은 무료\n",
    "        if age < 3:\n",
    "            print(\"3세 미만은 무료입장입니다.\")\n",
    "        # 3세 ~ 9시 : 5,000원\n",
    "        elif age >= 3 and age < 10:\n",
    "            print(\"요금은 5,000원 입니다.\")\n",
    "        # 일반 요금 10,000원\n",
    "        else:\n",
    "            print(\"요금은 10,000원 입니다.\")\n",
    "    finally:\n",
    "        print(\"디즈니 랜드에 오신 것을 환영합니다.\")\n",
    "\n",
    "disneyland()"
   ]
  },
  {
   "cell_type": "code",
   "execution_count": null,
   "metadata": {},
   "outputs": [],
   "source": []
  },
  {
   "cell_type": "markdown",
   "metadata": {},
   "source": [
    "raise vd assert"
   ]
  },
  {
   "cell_type": "code",
   "execution_count": null,
   "metadata": {},
   "outputs": [],
   "source": [
    "a = 1\n",
    "\n",
    "if type(a) != int:\n",
    "    raise Exception('틀렸지롱 ㅋㅋ')"
   ]
  },
  {
   "cell_type": "code",
   "execution_count": null,
   "metadata": {},
   "outputs": [],
   "source": [
    "a = '1'\n",
    "\n",
    "if type(a) != int:\n",
    "    raise Exception('틀렸지롱 ㅋㅋ')"
   ]
  },
  {
   "cell_type": "code",
   "execution_count": null,
   "metadata": {},
   "outputs": [],
   "source": [
    "a = '1'\n",
    "\n",
    "assert type(a) == int, '틀렸지롱 ㅋㅋ'"
   ]
  }
 ],
 "metadata": {
  "kernelspec": {
   "display_name": "TIL",
   "language": "python",
   "name": "python3"
  },
  "language_info": {
   "codemirror_mode": {
    "name": "ipython",
    "version": 3
   },
   "file_extension": ".py",
   "mimetype": "text/x-python",
   "name": "python",
   "nbconvert_exporter": "python",
   "pygments_lexer": "ipython3",
   "version": "3.8.18"
  }
 },
 "nbformat": 4,
 "nbformat_minor": 2
}
